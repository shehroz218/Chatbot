{
 "cells": [
  {
   "cell_type": "code",
   "execution_count": 98,
   "metadata": {},
   "outputs": [],
   "source": [
    "import pandas as pd\n",
    "import numpy as np\n",
    "import random\n",
    "import json\n",
    "import matplotlib.pyplot as plt\n",
    "import pickle\n",
    "\n",
    "\n",
    "from gtts import gTTS\n",
    "from io import BytesIO\n",
    "import pygame\n",
    "import speech_recognition as sr\n",
    "\n",
    "import tflearn\n",
    "import tensorflow as tf\n",
    "import nltk\n",
    "from nltk.stem.lancaster import LancasterStemmer\n"
   ]
  },
  {
   "cell_type": "markdown",
   "metadata": {},
   "source": [
    "+ Reading Json file of previously created intents and storing them in diffferent formats for ease of access"
   ]
  },
  {
   "cell_type": "code",
   "execution_count": 93,
   "metadata": {},
   "outputs": [
    {
     "data": {
      "text/plain": [
       "[{'tag': 'greeting',\n",
       "  'patterns': ['Hi',\n",
       "   'How are you',\n",
       "   'Is anyone there?',\n",
       "   'Hello',\n",
       "   'Good day',\n",
       "   'Whats up',\n",
       "   'good morning',\n",
       "   'good afternoon'],\n",
       "  'responses': ['Hello!',\n",
       "   'Good to see you again!',\n",
       "   'Hi there, how can I help?'],\n",
       "  'context_set': ''},\n",
       " {'tag': 'goodbye',\n",
       "  'patterns': ['cya',\n",
       "   'See you later',\n",
       "   'Goodbye',\n",
       "   'I am Leaving',\n",
       "   'Have a Good day',\n",
       "   'bye',\n",
       "   'good night'],\n",
       "  'responses': ['Sad to see you go :(',\n",
       "   'Talk to you later',\n",
       "   'Goodbye!',\n",
       "   'have a great day'],\n",
       "  'context_set': ''},\n",
       " {'tag': 'age',\n",
       "  'patterns': ['how old',\n",
       "   'how old is Danny',\n",
       "   'what is your age',\n",
       "   'how old are you',\n",
       "   'age?'],\n",
       "  'responses': ['I am 18 years old!', '18 years young!'],\n",
       "  'context_set': ''},\n",
       " {'tag': 'name',\n",
       "  'patterns': ['what is your name',\n",
       "   'what should I call you',\n",
       "   'whats your name?',\n",
       "   'name?'],\n",
       "  'responses': ['You can call me Danny.',\n",
       "   \"I'm Danny!\",\n",
       "   \"I'm Danny aka Tech With Danny.\"],\n",
       "  'context_set': ''},\n",
       " {'tag': 'shop',\n",
       "  'patterns': ['Id like to buy something',\n",
       "   'whats on the menu',\n",
       "   'what do you reccommend?',\n",
       "   'could i get something to eat',\n",
       "   'buy',\n",
       "   'i want to buy something'],\n",
       "  'responses': ['We sell cornflakes for $2!', 'Cornflakes are on the menu!'],\n",
       "  'context_set': ''},\n",
       " {'tag': 'hours',\n",
       "  'patterns': ['when are you guys open',\n",
       "   'what are your hours',\n",
       "   'hours of operation',\n",
       "   'when do you close'],\n",
       "  'responses': ['We are open 6am-10pm Monday-Friday!'],\n",
       "  'context_set': ''}]"
      ]
     },
     "execution_count": 93,
     "metadata": {},
     "output_type": "execute_result"
    }
   ],
   "source": [
    "with open('intents.json') as file:\n",
    "    data=json.load(file)\n",
    "data['intents']\n"
   ]
  },
  {
   "cell_type": "code",
   "execution_count": 94,
   "metadata": {},
   "outputs": [],
   "source": [
    "try:\n",
    "    with open(\"data.pickle\",\"rb\") as f:\n",
    "        words,labels,training,output = pickle.load(f)\n",
    "except:\n",
    "    stemmer=LancasterStemmer()\n",
    "    words=[]\n",
    "    labels=[]\n",
    "    docs_x=[]   # patterns\n",
    "    docs_y=[]   # labels of the above patterns\n",
    "\n",
    "    for intents in data['intents']:\n",
    "        for patterns in intents['patterns']:\n",
    "            word=nltk.word_tokenize(patterns)\n",
    "            words.extend(word)\n",
    "            docs_x.append(word)\n",
    "            docs_y.append(intents['tag'])\n",
    "\n",
    "            if intents['tag'] not in labels:\n",
    "                labels.append(intents['tag'])\n",
    "\n",
    "    words=[stemmer.stem(w.lower()) for w in words if w != '?']\n",
    "    words=sorted(list(set(words)))\n",
    "\n",
    "    labels = sorted(labels)\n",
    "    #bag of words -> one hot encoding \n",
    "    # how to use one hto encoding in this case ????\n",
    "    training =[]\n",
    "    output=[]\n",
    "\n",
    "    out_empty=[0 for _ in range(len(labels))]\n",
    "\n",
    "    for x,doc in enumerate(docs_x):\n",
    "        bag=[]\n",
    "\n",
    "        wrds= [stemmer.stem(w) for w in doc if w != '?']\n",
    "        for w in words:\n",
    "            if w in wrds:\n",
    "                bag.append(1)\n",
    "            else:\n",
    "                bag.append(0)\n",
    "\n",
    "        output_row=out_empty[:]\n",
    "        output_row[labels.index(docs_y[x])]=1\n",
    "\n",
    "        training.append(bag)\n",
    "        output.append(output_row)\n",
    "\n",
    "    training = np.array(training)\n",
    "    # training=training.reshape(1,training.shape[0])\n",
    "    output = np.array(output)\n",
    "\n",
    "    with open(\"data.pickle\",\"wb\") as f:\n",
    "        pickle.dump((words,labels,training,output),f)"
   ]
  },
  {
   "cell_type": "code",
   "execution_count": null,
   "metadata": {},
   "outputs": [],
   "source": []
  },
  {
   "cell_type": "code",
   "execution_count": 95,
   "metadata": {},
   "outputs": [],
   "source": [
    "epochs=1000\n",
    "batch_size=8\n",
    "input_shape=[len(training[0])]\n",
    "num_of_labels=len(output[0])\n",
    "\n",
    "model = tf.keras.Sequential([\n",
    "    tf.keras.layers.Dense(8, input_shape=input_shape),\n",
    "    tf.keras.layers.Dense(8),\n",
    "    tf.keras.layers.Dense(num_of_labels, activation=\"softmax\"),\n",
    "])\n",
    "try:\n",
    "    model=tf.keras.models.load_model('model')\n",
    "except:\n",
    "    model.compile(optimizer=\"adam\", loss=\"categorical_crossentropy\", metrics=[\"acc\"])\n",
    "    history=model.fit(training, output, epochs=epochs, batch_size=batch_size)\n",
    "    model.save('model')"
   ]
  },
  {
   "cell_type": "code",
   "execution_count": 96,
   "metadata": {},
   "outputs": [],
   "source": [
    "# acc = history.history['acc']\n",
    "\n",
    "# loss = history.history['loss']\n",
    "\n",
    "\n",
    "# epochs = range(len(acc))\n",
    "# plt.figure(figsize=(16,10))\n",
    "# plt.plot(epochs, acc, 'b', label='Training accuracy')\n",
    "# plt.plot(epochs, loss, 'r', label='Training Loss')\n",
    "# plt.title('Training accuracy')\n",
    "# plt.legend(loc=0)\n",
    "# plt.figure()\n",
    "# plt.show()"
   ]
  },
  {
   "cell_type": "code",
   "execution_count": 97,
   "metadata": {},
   "outputs": [
    {
     "name": "stdout",
     "output_type": "stream",
     "text": [
      "Start talking with the bot! (type quit to stop)\n"
     ]
    },
    {
     "name": "stderr",
     "output_type": "stream",
     "text": [
      "C:\\Users\\shzso\\anaconda3\\envs\\Chatbot\\lib\\site-packages\\keras\\engine\\training_v1.py:2079: UserWarning: `Model.state_updates` will be removed in a future version. This property should not be used in TensorFlow 2.0, as `updates` are applied automatically.\n",
      "  updates=self.state_updates,\n"
     ]
    },
    {
     "name": "stdout",
     "output_type": "stream",
     "text": [
      "Hello!\n",
      "I am 18 years old!\n",
      "I'm Danny!\n",
      "You can call me Danny.\n",
      "Good to see you again!\n"
     ]
    },
    {
     "ename": "KeyboardInterrupt",
     "evalue": "Interrupted by user",
     "output_type": "error",
     "traceback": [
      "\u001b[1;31m---------------------------------------------------------------------------\u001b[0m",
      "\u001b[1;31mKeyboardInterrupt\u001b[0m                         Traceback (most recent call last)",
      "\u001b[1;32md:\\Codes\\Chatbot\\first_try.ipynb Cell 8'\u001b[0m in \u001b[0;36m<cell line: 47>\u001b[1;34m()\u001b[0m\n\u001b[0;32m     <a href='vscode-notebook-cell:/d%3A/Codes/Chatbot/first_try.ipynb#ch0000007?line=43'>44</a>\u001b[0m         pygame\u001b[39m.\u001b[39mmixer\u001b[39m.\u001b[39mmusic\u001b[39m.\u001b[39mload(sound, \u001b[39m'\u001b[39m\u001b[39mmp3\u001b[39m\u001b[39m'\u001b[39m)\n\u001b[0;32m     <a href='vscode-notebook-cell:/d%3A/Codes/Chatbot/first_try.ipynb#ch0000007?line=44'>45</a>\u001b[0m         pygame\u001b[39m.\u001b[39mmixer\u001b[39m.\u001b[39mmusic\u001b[39m.\u001b[39mplay()\n\u001b[1;32m---> <a href='vscode-notebook-cell:/d%3A/Codes/Chatbot/first_try.ipynb#ch0000007?line=46'>47</a>\u001b[0m chat()\n",
      "\u001b[1;32md:\\Codes\\Chatbot\\first_try.ipynb Cell 8'\u001b[0m in \u001b[0;36mchat\u001b[1;34m()\u001b[0m\n\u001b[0;32m     <a href='vscode-notebook-cell:/d%3A/Codes/Chatbot/first_try.ipynb#ch0000007?line=26'>27</a>\u001b[0m \u001b[39mprint\u001b[39m(\u001b[39m'\u001b[39m\u001b[39mStart talking with the bot! (type quit to stop)\u001b[39m\u001b[39m'\u001b[39m)\n\u001b[0;32m     <a href='vscode-notebook-cell:/d%3A/Codes/Chatbot/first_try.ipynb#ch0000007?line=27'>28</a>\u001b[0m \u001b[39mwhile\u001b[39;00m \u001b[39mTrue\u001b[39;00m:\n\u001b[1;32m---> <a href='vscode-notebook-cell:/d%3A/Codes/Chatbot/first_try.ipynb#ch0000007?line=28'>29</a>\u001b[0m     inp \u001b[39m=\u001b[39m \u001b[39minput\u001b[39;49m(\u001b[39m'\u001b[39;49m\u001b[39mYou:\u001b[39;49m\u001b[39m'\u001b[39;49m)\n\u001b[0;32m     <a href='vscode-notebook-cell:/d%3A/Codes/Chatbot/first_try.ipynb#ch0000007?line=29'>30</a>\u001b[0m     \u001b[39mif\u001b[39;00m inp\u001b[39m.\u001b[39mlower() \u001b[39m==\u001b[39m \u001b[39m'\u001b[39m\u001b[39mquit\u001b[39m\u001b[39m'\u001b[39m:\n\u001b[0;32m     <a href='vscode-notebook-cell:/d%3A/Codes/Chatbot/first_try.ipynb#ch0000007?line=30'>31</a>\u001b[0m         \u001b[39mbreak\u001b[39;00m\n",
      "File \u001b[1;32m~\\anaconda3\\envs\\Chatbot\\lib\\site-packages\\ipykernel\\kernelbase.py:1075\u001b[0m, in \u001b[0;36mKernel.raw_input\u001b[1;34m(self, prompt)\u001b[0m\n\u001b[0;32m   <a href='file:///c%3A/Users/shzso/anaconda3/envs/Chatbot/lib/site-packages/ipykernel/kernelbase.py?line=1070'>1071</a>\u001b[0m \u001b[39mif\u001b[39;00m \u001b[39mnot\u001b[39;00m \u001b[39mself\u001b[39m\u001b[39m.\u001b[39m_allow_stdin:\n\u001b[0;32m   <a href='file:///c%3A/Users/shzso/anaconda3/envs/Chatbot/lib/site-packages/ipykernel/kernelbase.py?line=1071'>1072</a>\u001b[0m     \u001b[39mraise\u001b[39;00m StdinNotImplementedError(\n\u001b[0;32m   <a href='file:///c%3A/Users/shzso/anaconda3/envs/Chatbot/lib/site-packages/ipykernel/kernelbase.py?line=1072'>1073</a>\u001b[0m         \u001b[39m\"\u001b[39m\u001b[39mraw_input was called, but this frontend does not support input requests.\u001b[39m\u001b[39m\"\u001b[39m\n\u001b[0;32m   <a href='file:///c%3A/Users/shzso/anaconda3/envs/Chatbot/lib/site-packages/ipykernel/kernelbase.py?line=1073'>1074</a>\u001b[0m     )\n\u001b[1;32m-> <a href='file:///c%3A/Users/shzso/anaconda3/envs/Chatbot/lib/site-packages/ipykernel/kernelbase.py?line=1074'>1075</a>\u001b[0m \u001b[39mreturn\u001b[39;00m \u001b[39mself\u001b[39;49m\u001b[39m.\u001b[39;49m_input_request(\n\u001b[0;32m   <a href='file:///c%3A/Users/shzso/anaconda3/envs/Chatbot/lib/site-packages/ipykernel/kernelbase.py?line=1075'>1076</a>\u001b[0m     \u001b[39mstr\u001b[39;49m(prompt),\n\u001b[0;32m   <a href='file:///c%3A/Users/shzso/anaconda3/envs/Chatbot/lib/site-packages/ipykernel/kernelbase.py?line=1076'>1077</a>\u001b[0m     \u001b[39mself\u001b[39;49m\u001b[39m.\u001b[39;49m_parent_ident[\u001b[39m\"\u001b[39;49m\u001b[39mshell\u001b[39;49m\u001b[39m\"\u001b[39;49m],\n\u001b[0;32m   <a href='file:///c%3A/Users/shzso/anaconda3/envs/Chatbot/lib/site-packages/ipykernel/kernelbase.py?line=1077'>1078</a>\u001b[0m     \u001b[39mself\u001b[39;49m\u001b[39m.\u001b[39;49mget_parent(\u001b[39m\"\u001b[39;49m\u001b[39mshell\u001b[39;49m\u001b[39m\"\u001b[39;49m),\n\u001b[0;32m   <a href='file:///c%3A/Users/shzso/anaconda3/envs/Chatbot/lib/site-packages/ipykernel/kernelbase.py?line=1078'>1079</a>\u001b[0m     password\u001b[39m=\u001b[39;49m\u001b[39mFalse\u001b[39;49;00m,\n\u001b[0;32m   <a href='file:///c%3A/Users/shzso/anaconda3/envs/Chatbot/lib/site-packages/ipykernel/kernelbase.py?line=1079'>1080</a>\u001b[0m )\n",
      "File \u001b[1;32m~\\anaconda3\\envs\\Chatbot\\lib\\site-packages\\ipykernel\\kernelbase.py:1120\u001b[0m, in \u001b[0;36mKernel._input_request\u001b[1;34m(self, prompt, ident, parent, password)\u001b[0m\n\u001b[0;32m   <a href='file:///c%3A/Users/shzso/anaconda3/envs/Chatbot/lib/site-packages/ipykernel/kernelbase.py?line=1116'>1117</a>\u001b[0m             \u001b[39mbreak\u001b[39;00m\n\u001b[0;32m   <a href='file:///c%3A/Users/shzso/anaconda3/envs/Chatbot/lib/site-packages/ipykernel/kernelbase.py?line=1117'>1118</a>\u001b[0m \u001b[39mexcept\u001b[39;00m \u001b[39mKeyboardInterrupt\u001b[39;00m:\n\u001b[0;32m   <a href='file:///c%3A/Users/shzso/anaconda3/envs/Chatbot/lib/site-packages/ipykernel/kernelbase.py?line=1118'>1119</a>\u001b[0m     \u001b[39m# re-raise KeyboardInterrupt, to truncate traceback\u001b[39;00m\n\u001b[1;32m-> <a href='file:///c%3A/Users/shzso/anaconda3/envs/Chatbot/lib/site-packages/ipykernel/kernelbase.py?line=1119'>1120</a>\u001b[0m     \u001b[39mraise\u001b[39;00m \u001b[39mKeyboardInterrupt\u001b[39;00m(\u001b[39m\"\u001b[39m\u001b[39mInterrupted by user\u001b[39m\u001b[39m\"\u001b[39m) \u001b[39mfrom\u001b[39;00m \u001b[39mNone\u001b[39m\n\u001b[0;32m   <a href='file:///c%3A/Users/shzso/anaconda3/envs/Chatbot/lib/site-packages/ipykernel/kernelbase.py?line=1120'>1121</a>\u001b[0m \u001b[39mexcept\u001b[39;00m \u001b[39mException\u001b[39;00m:\n\u001b[0;32m   <a href='file:///c%3A/Users/shzso/anaconda3/envs/Chatbot/lib/site-packages/ipykernel/kernelbase.py?line=1121'>1122</a>\u001b[0m     \u001b[39mself\u001b[39m\u001b[39m.\u001b[39mlog\u001b[39m.\u001b[39mwarning(\u001b[39m\"\u001b[39m\u001b[39mInvalid Message:\u001b[39m\u001b[39m\"\u001b[39m, exc_info\u001b[39m=\u001b[39m\u001b[39mTrue\u001b[39;00m)\n",
      "\u001b[1;31mKeyboardInterrupt\u001b[0m: Interrupted by user"
     ]
    }
   ],
   "source": [
    "## bag of words function\n",
    "def bag_of_words (s,words):\n",
    "    bag=[0 for _ in range(len(words))]\n",
    "\n",
    "    s_words= nltk.word_tokenize(s)\n",
    "    stemmer=LancasterStemmer()\n",
    "    s_words = [stemmer.stem(words.lower()) for words in s_words]\n",
    "\n",
    "    for se in s_words:\n",
    "        for i,w in enumerate (words):\n",
    "            if w == se:\n",
    "                bag[i]=1\n",
    "\n",
    "\n",
    "    return np.array([bag])\n",
    "\n",
    "def speak(text, language='en'):\n",
    "    mp3_fo=BytesIO()\n",
    "    tts =gTTS(text, lang=language)\n",
    "    tts.write_to_fp(mp3_fo)\n",
    "    return mp3_fo\n",
    "pygame.init()\n",
    "pygame.mixer.init()\n",
    "\n",
    "\n",
    "def chat():\n",
    "    print('Start talking with the bot! (type quit to stop)')\n",
    "    while True:\n",
    "        inp = input('You:')\n",
    "        if inp.lower() == 'quit':\n",
    "            break\n",
    "\n",
    "        results=model.predict(bag_of_words(inp, words))\n",
    "        \n",
    "        results_index= np.argmax(results)\n",
    "        tag=labels[results_index]\n",
    "        \n",
    "        for tg in data['intents']:\n",
    "            if tg['tag']==tag:\n",
    "                responses=tg['responses']\n",
    "        out=random.choice(responses)\n",
    "        print(out)\n",
    "        \n",
    "        sound=speak(out)\n",
    "        pygame.mixer.music.load(sound, 'mp3')\n",
    "        pygame.mixer.music.play()\n",
    "\n",
    "chat()"
   ]
  },
  {
   "cell_type": "code",
   "execution_count": 104,
   "metadata": {},
   "outputs": [
    {
     "name": "stdout",
     "output_type": "stream",
     "text": [
      "speak bitch\n",
      "time over bitch!!!!\n"
     ]
    },
    {
     "data": {
      "text/plain": [
       "\"how's the weather today\""
      ]
     },
     "execution_count": 104,
     "metadata": {},
     "output_type": "execute_result"
    }
   ],
   "source": [
    "r=sr.Recognizer()\n",
    "with sr.Microphone() as source:\n",
    "    print('speak bitch')\n",
    "    audio = r.listen(source)\n",
    "    print('time over bitch!!!!')\n",
    "r.recognize_google(audio)"
   ]
  },
  {
   "cell_type": "code",
   "execution_count": 101,
   "metadata": {},
   "outputs": [
    {
     "data": {
      "text/plain": [
       "'what the f*** b****'"
      ]
     },
     "execution_count": 101,
     "metadata": {},
     "output_type": "execute_result"
    }
   ],
   "source": [
    "r.recognize_google(audio)"
   ]
  },
  {
   "cell_type": "code",
   "execution_count": null,
   "metadata": {},
   "outputs": [],
   "source": []
  }
 ],
 "metadata": {
  "interpreter": {
   "hash": "ed2de141dc929c4a2ea54aea3406b8b73a89f3a0e3dab62e2832c2c3931b2cb9"
  },
  "kernelspec": {
   "display_name": "Python 3.9.7 ('env2')",
   "language": "python",
   "name": "python3"
  },
  "language_info": {
   "codemirror_mode": {
    "name": "ipython",
    "version": 3
   },
   "file_extension": ".py",
   "mimetype": "text/x-python",
   "name": "python",
   "nbconvert_exporter": "python",
   "pygments_lexer": "ipython3",
   "version": "3.9.12"
  },
  "orig_nbformat": 4
 },
 "nbformat": 4,
 "nbformat_minor": 2
}
